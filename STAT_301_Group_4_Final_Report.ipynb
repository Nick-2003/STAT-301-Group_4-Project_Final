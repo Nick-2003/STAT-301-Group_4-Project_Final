{
 "cells": [
  {
   "cell_type": "markdown",
   "id": "14cb6795-7a15-4df3-a6ed-5ccb45e36248",
   "metadata": {},
   "source": [
    "# Heart Disease Statistics Group Final Report \n",
    "\n",
    "## Authors: Nicholas Tam, Hanxi Chen, Levi Zeng, Xinyang Deng\n",
    "\n",
    "## Group: 4"
   ]
  },
  {
   "cell_type": "markdown",
   "id": "2b607ae3-1eac-4da4-ad41-20f0acf0d0b7",
   "metadata": {
    "tags": []
   },
   "source": [
    "## 1. Introduction\n",
    "### 1.1. Background Information\n",
    "There are numerous studies that have indicated strong associations of coronary heart disease with a wide variety of factors, including age and sex (Lloyd-Jones, Larson, Beiser, Levy, 1999), blood pressure (Lawes, Bennett, Lewington, Rodgers, 2003), and serum cholesterol level (Law, Wald, Thompson, 1994). However, given that the majority of the given factors have significant associations with one another, such as cholesterol level with age and sex (Beckett, N., Nunes, M., & Bulpitt, C., 2000), along with the sheer quantity of potential risk factors (Hajar, 2017), it is unclear how these factors could be combined to model and predict the diagnosis of coronary heart disease.\n",
    "\n",
    "### 1.2. Dataset and Project Question\n",
    "For our research project, we have selected datasets containing processed angiography data on patients in various clinics in 1988, applying a probability model derived from test results of 303 patients at the Cleveland Clinic in Cleveland, Ohio to generate and estimate results for the diagnosis of coronary heart disease (Janosi, A., Steinbrunn, W., Pfisterer, M., & Detrano, R., 1989). The datasets include the following patients undergoing angiography: \n",
    "- 303 patients at the Cleveland Clinic in Cleveland, Ohio (Original dataset for model) \n",
    "- 425 patients at the Hungarian Institute of Cardiology in Budapest, Hungary\n",
    "- 200 patients at the Veterans Administration Medical Center in Long Beach, California \n",
    "- 143 patients from the University Hospitals in Zurich and Basel, Switzerland\n",
    "\n",
    "These datasets were retrieved from the [Heart Disease](https://archive.ics.uci.edu/dataset/45/heart+disease) dataset from UCI machine learning repository, and converted from .data files to CSV files with Excel. The dataset obtained contains the following 14 attributes out of 76 attributes from the initial dataset for each patient: "
   ]
  },
  {
   "cell_type": "code",
   "execution_count": null,
   "id": "ffaeee8e-948c-4853-acd8-23251aad11fc",
   "metadata": {
    "tags": []
   },
   "outputs": [],
   "source": [
    "myTable <- data.frame(\n",
    "  Variable = c(\"age\", \"sex\", \"cp\", \"trestbps\", \"chol\", \"fbs\", \"restecg\", \"thalach\", \"exang\", \"oldpeak\", \"slope\", \"ca\", \"thal\", \"num\"),\n",
    "  Definition = c(\"Age\", \"Sex\", \"Chest pain type\", \"Resting blood pressure on admission to hospital\", \"Serum cholesterol\", \"Presence of high blood sugar\", \"Resting electrocardiographic results\", \"Maximum heart rate achieved\", \"Exercise induced angina\", \"ST depression induced by exercise relative to rest\", \"Slope of the peak exercise ST segment\", \"Number of major vessels coloured by fluoroscopy\", \"Presence of defect\", \"Diagnosis of heart disease\"),\n",
    "  Type = c(\"Numerical\", \"Categorical\", \"Categorical\", \"Numerical\", \"Numerical\", \"Categorical\", \"Categorical\", \"Numerical\", \"Categorical\", \"Numerical\", \"Categorical\", \"Numerical\", \"Categorical\", \"Categorical\"),\n",
    "  Unit = c(\"Years\", \"N/A\", \"N/A\", \"mmHg\", \"mg/dl\", \"N/A\", \"N/A\", \"BPM\", \"N/A\", \"N/A\", \"N/A\", \"N/A\", \"N/A\", \"N/A\"),\n",
    "  Categories = c(\"N/A\", \"0: Female; 1: Male\", \"1: Typical angina; 2: Atypical angina; 3: Non-anginal pain; 4: Asymptomatic\", \"N/A\", \"N/A\", \"0: False; 1: True\", \"0: Normal; 1: Having ST-T wave abnormality (T wave inversions and/or ST elevation or depression of > 0.05 mV); 2: Showing probable or definite left ventricular hypertrophy by Estes' criteria\", \"N/A\", \"0: No; 1: Yes\", \"N/A\", \"1: Upsloping; 2: Flat; 3: Downsloping\", \"Range from 1-3\", \"3: Normal; 6: Fixed defect; 7: Reversable defect\", \"0: < 50% diameter narrowing; 1+: > 50% diameter narrowing\"),\n",
    "  MissingValues = c(\"No\", \"No\", \"No\", \"Yes\", \"Yes\", \"Yes\", \"Yes\", \"Yes\", \"Yes\", \"Yes\", \"Yes\", \"Yes\", \"Yes\", \"No\")\n",
    ")\n",
    "myTable"
   ]
  },
  {
   "cell_type": "markdown",
   "id": "f27a3c6c-ff62-43df-8b64-f969d6e7dc8c",
   "metadata": {},
   "source": [
    "Our project question is:\n",
    "\n",
    "#### “Given the sample data for angiography patients, what model would be most effective in predicting each patient’s diagnosis?”\n",
    "\n",
    "Our analysis will involve the development of a predictive model to estimate the likelihood of angiographic coronary disease based on these variables. Additionally, we will explore regional variations and demographic influences on heart disease risk. This research question is primarily focused on both predictions, as we seek to generate a predictive model given the provided data to estimate diagnoses of new observations. Inference will also be required to a lesser extent, as we aim to gain insights into the factors influencing the likelihood of coronary disease diagnosis in different locations and demographic groups. "
   ]
  },
  {
   "cell_type": "markdown",
   "id": "ffb7dfaa-0bea-446a-a09c-b8b033715b31",
   "metadata": {},
   "source": [
    "## 2. Preliminary Results\n",
    "\n",
    "### 2.1. Loading relevant libraries"
   ]
  },
  {
   "cell_type": "code",
   "execution_count": null,
   "id": "2cb325a9-7fd5-489c-b2b8-d6abb29b9d9a",
   "metadata": {
    "tags": []
   },
   "outputs": [],
   "source": [
    "# Imports\n",
    "\n",
    "install.packages(\"remotes\")\n",
    "remotes::install_github(\"tidymodels/infer\")\n",
    "install.packages(\"infer\") # Install infer package for use\n",
    "\n",
    "library(dplyr) # Data manipulation operations\n",
    "library(gridExtra) # Extensions for grid system\n",
    "library(tidyverse) # Better presentation of data\n",
    "library(repr) # String and binary representations of objects for several formats / mime types \n",
    "library(lubridate) # Easier date organisation\n",
    "library(infer) # Bootstrap distribution, confidence interval\n",
    "library(broom) # Reorganises outputs into tidy tibbles\n",
    "# library(ggplot2) # Provides commands to create complex plots\n",
    "library(GGally) # Provides correlation between variables\n",
    "library(tidymodels) # Modelling with training and testing\n",
    "library(car) # Applied regression tools, including VIF\n",
    "library(leaps) # Exhaustive search for the best subsets of the variables in x for predicting y in linear regression\n",
    "library(glmnet) # Regularised regression models\n",
    "library(mltools) # Regression metrics\n",
    "library(caret) # Streamline the process for creating predictive models\n",
    "library(boot) # Allows easy generattion of bootstrap samples of virtually any statistic that they can calculate in R\n",
    "library(pROC) # Display and analyse ROC curves \n",
    "library(MASS) # Support functions and datasets for Venables and Ripley's MASS"
   ]
  },
  {
   "cell_type": "markdown",
   "id": "2f1f41e4-0b8d-4667-89f1-9f0c1acc27df",
   "metadata": {},
   "source": [
    "### 2.2. Uploading and merging relevant tables\n",
    "\n",
    "- Each data set is read separately, then merged into a single dataframe called `total_heart`, as shown in Table 1. \n",
    "- Before merging, the `location` column is created, to indicate the differing clinics that the probability model was applied to; the reference level is set to \"Cleveland\", the clinic the initial model was derived from.\n",
    "- The `age`, `sex`, `cp`, `trestbps`, `chol`, `thalach`, and `num` columns require a change in data type to be used as intended.\n",
    "- Due to several datasets either missing most or all data for `fbs`, `oldpeak`, `slope`, `ca` and `thal` columns, the columns have been removed under the assumption that they are irrelevant or are results from the initial model.\n",
    "- Any patients with \"?\" for any variables, `trestbps == 0` or `chol == 0` are assumed to be invalid and have been removed.\n",
    "- The Switzerland dataset has `chol == 0` for all data and as such has been removed.\n",
    "- Any values of `num >= 1` provide the same result, and thus have been converted to 1."
   ]
  },
  {
   "cell_type": "code",
   "execution_count": null,
   "id": "691dcb60-adf3-4e97-b120-94ec11599062",
   "metadata": {
    "tags": []
   },
   "outputs": [],
   "source": [
    "Cleveland_heart <- read.csv(\"https://raw.githubusercontent.com/Nick-2003/STAT-301-Group_4-Project_Final/main/heart%2Bdisease%2BModified/processed_Cleveland.csv\") %>% \n",
    "    mutate(location = \"Cleveland\")\n",
    "Hungary_heart <- read.csv(\"https://raw.githubusercontent.com/Nick-2003/STAT-301-Group_4-Project_Final/main/heart%2Bdisease%2BModified/processed_Hungarian.csv\") %>% \n",
    "    mutate(location = \"Hungary\")\n",
    "Switzerland_heart <- read.csv(\"https://raw.githubusercontent.com/Nick-2003/STAT-301-Group_4-Project_Final/main/heart%2Bdisease%2BModified/processed_Switzerland.csv\") %>% \n",
    "    mutate(location = \"Switzerland\")\n",
    "California_heart <- read.csv(\"https://raw.githubusercontent.com/Nick-2003/STAT-301-Group_4-Project/main/heart%2Bdisease%2BModified/processed_VA.csv\") %>% \n",
    "    mutate(location = \"California\")\n",
    "head(California_heart)\n",
    "total_heart <- rbind(Cleveland_heart, Hungary_heart, Switzerland_heart, California_heart) %>% \n",
    "    select(location, age, sex, cp, trestbps, chol, restecg, thalach, exang, num) %>% \n",
    "    filter(!(location == '?' | age == '?' | sex == '?' | cp == '?' | trestbps == '?' | trestbps == '0' | chol == '?' | chol == '0' | restecg == '?' | thalach == '?' | num == '?')) %>% \n",
    "    mutate(num = ifelse(num >= 1, 1, num))  %>% \n",
    "    transform(sex = as.character(as.factor(sex)), cp = as.character(as.factor(cp)), trestbps = as.double(as.factor(trestbps)), chol = as.double(as.factor(chol)), thalach = as.double(as.factor(thalach))) \n",
    "# %>% \n",
    "total_heart$location <- factor(total_heart$location) %>% \n",
    "    relevel(total_heart$location, ref = \"Cleveland\")\n",
    "\n",
    "head(total_heart)\n",
    "tail(total_heart)"
   ]
  },
  {
   "cell_type": "markdown",
   "id": "04a7a405-1a43-4ab2-bd85-d50e78ea839d",
   "metadata": {},
   "source": [
    "### 2.3. Exploratory Data Analysis"
   ]
  },
  {
   "cell_type": "code",
   "execution_count": null,
   "id": "32f02b43-8715-42b1-9905-da632b85956a",
   "metadata": {},
   "outputs": [],
   "source": []
  },
  {
   "cell_type": "markdown",
   "id": "bafccb71-8758-4606-b8fa-a5ba9b3e163d",
   "metadata": {},
   "source": [
    "## 3. Methods and Plan\n",
    "\n",
    "The dataset contains measurements for coronary heart disease diagnosis in separate locations, and the VIF values for all explanatory variables are relatively low, allowing for variations in diagnosis due to potential confounding variables to be accounted for.\n",
    "\n",
    "### 3.1. "
   ]
  },
  {
   "cell_type": "code",
   "execution_count": null,
   "id": "2a2e81a2-7e7c-43d8-b2c2-68202f99b1d7",
   "metadata": {},
   "outputs": [],
   "source": []
  },
  {
   "cell_type": "markdown",
   "id": "130c675a-5b62-4d4d-81ec-72ce4c63cc79",
   "metadata": {},
   "source": [
    "## 4. Discussion \n",
    "### 4.1. "
   ]
  },
  {
   "cell_type": "markdown",
   "id": "89f0b6db-2cb7-4232-9c61-2e101c66159e",
   "metadata": {},
   "source": [
    "## References\n",
    "- Lloyd-Jones, D. M., Larson, M. G., Beiser, A., & Levy, D. (1999, February 19). Lifetime risk of developing coronary heart disease. The Lancet. https://www.sciencedirect.com/science/article/pii/S0140673698102799?via%3Dihub \n",
    "- Lawes, C. M. M., Bennett, D. A., Lewington, S., & Rodgers, A. (2003, January 22). Blood pressure and coronary heart disease: A review of the evidence. Seminars in Vascular Medicine. https://www.thieme-connect.com/products/ejournals/html/10.1055/s-2002-36765 \n",
    "- Law, M. R., Wald, N. J., & Thompson, S. G. (1994, February 5). By how much and how quickly does reduction in serum cholesterol concentration lower risk of ischaemic heart disease?. The BMJ. https://www.bmj.com/content/308/6925/367.full \n",
    "- Beckett, N., Nunes, M., & Bulpitt, C. (2000). Is it advantageous to lower cholesterol in the elderly hypertensive?. Cardiovascular drugs and therapy, 14(4), 397–405. https://doi.org/10.1023/a:1007812232328 \n",
    "- Hajar R. (2017). Risk Factors for Coronary Artery Disease: Historical Perspectives. Heart views : the official journal of the Gulf Heart Association, 18(3), 109–114. https://doi.org/10.4103/HEARTVIEWS.HEARTVIEWS_106_17 "
   ]
  },
  {
   "cell_type": "code",
   "execution_count": null,
   "id": "1ffc91da-9b20-4f96-9bc1-09a40237ca37",
   "metadata": {},
   "outputs": [],
   "source": []
  }
 ],
 "metadata": {
  "kernelspec": {
   "display_name": "R",
   "language": "R",
   "name": "ir"
  },
  "language_info": {
   "codemirror_mode": "r",
   "file_extension": ".r",
   "mimetype": "text/x-r-source",
   "name": "R",
   "pygments_lexer": "r",
   "version": "4.2.3"
  }
 },
 "nbformat": 4,
 "nbformat_minor": 5
}
