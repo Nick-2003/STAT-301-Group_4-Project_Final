{
 "cells": [
  {
   "cell_type": "markdown",
   "id": "14cb6795-7a15-4df3-a6ed-5ccb45e36248",
   "metadata": {},
   "source": [
    "# Heart Disease Statistics Group Final Report \n",
    "\n",
    "## Authors: Nicholas Tam, Hanxi Chen, Levi Zeng, Xinyang Deng\n",
    "\n",
    "## Group: 4"
   ]
  },
  {
   "cell_type": "code",
   "execution_count": null,
   "id": "13a96174-9fe7-4fcd-861c-ce54a4a6ddcf",
   "metadata": {},
   "outputs": [],
   "source": []
  }
 ],
 "metadata": {
  "kernelspec": {
   "display_name": "R",
   "language": "R",
   "name": "ir"
  },
  "language_info": {
   "codemirror_mode": "r",
   "file_extension": ".r",
   "mimetype": "text/x-r-source",
   "name": "R",
   "pygments_lexer": "r",
   "version": "4.2.3"
  }
 },
 "nbformat": 4,
 "nbformat_minor": 5
}
