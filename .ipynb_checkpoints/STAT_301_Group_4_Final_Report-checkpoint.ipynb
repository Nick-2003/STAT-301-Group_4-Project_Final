{
 "cells": [
  {
   "cell_type": "markdown",
   "id": "14cb6795-7a15-4df3-a6ed-5ccb45e36248",
   "metadata": {},
   "source": [
    "# Heart Disease Statistics Group Final Report \n",
    "\n",
    "## Authors: Nicholas Tam, Hanxi Chen, Levi Zeng, Xinyang Deng\n",
    "\n",
    "## Group: 4"
   ]
  },
  {
   "cell_type": "markdown",
   "id": "2b607ae3-1eac-4da4-ad41-20f0acf0d0b7",
   "metadata": {},
   "source": [
    "### Dataset and Project Question\n",
    "For our research project, we have selected datasets containing processed angiography data on patients in various clinics in 1988, applying a probability model derived from test results of 303 patients at the Cleveland Clinic in Cleveland, Ohio to generate and estimate results for the diagnosis of coronary heart disease (Janosi, A., Steinbrunn, W., Pfisterer, M., & Detrano, R., 1989). The datasets include the following patients undergoing angiography: \n",
    "- 303 patients at the Cleveland Clinic in Cleveland, Ohio (Original dataset for model) \n",
    "- 425 patients at the Hungarian Institute of Cardiology in Budapest, Hungary\n",
    "- 200 patients at the Veterans Administration Medical Center in Long Beach, California \n",
    "- 143 patients from the University Hospitals in Zurich and Basel, Switzerland\n",
    "\n",
    "These datasets were retrieved from the [Heart Disease](https://archive.ics.uci.edu/dataset/45/heart+disease) dataset from UCI machine learning repository, and converted from .data files to CSV files with Excel. The dataset obtained contains the following 14 attributes out of 76 attributes from the initial dataset for each patient: "
   ]
  },
  {
   "cell_type": "code",
   "execution_count": 1,
   "id": "ffaeee8e-948c-4853-acd8-23251aad11fc",
   "metadata": {
    "tags": []
   },
   "outputs": [
    {
     "data": {
      "text/html": [
       "<table class=\"dataframe\">\n",
       "<caption>A data.frame: 14 × 5</caption>\n",
       "<thead>\n",
       "\t<tr><th scope=col>Variable</th><th scope=col>Definition</th><th scope=col>Type</th><th scope=col>Unit</th><th scope=col>Categories</th></tr>\n",
       "\t<tr><th scope=col>&lt;chr&gt;</th><th scope=col>&lt;chr&gt;</th><th scope=col>&lt;chr&gt;</th><th scope=col>&lt;chr&gt;</th><th scope=col>&lt;chr&gt;</th></tr>\n",
       "</thead>\n",
       "<tbody>\n",
       "\t<tr><td>age     </td><td>Age                                               </td><td>Continuous </td><td>Years</td><td>N/A                                                                                                                                                                                           </td></tr>\n",
       "\t<tr><td>sex     </td><td>Sex                                               </td><td>Categorical</td><td>N/A  </td><td>0: Female; 1: Male                                                                                                                                                                            </td></tr>\n",
       "\t<tr><td>cp      </td><td>Chest pain type                                   </td><td>Categorical</td><td>N/A  </td><td>1: Typical angina; 2: Atypical angina; 3: Non-anginal pain; 4: Asymptomatic                                                                                                                   </td></tr>\n",
       "\t<tr><td>trestbps</td><td>Resting blood pressure on admission to hospital   </td><td>Continuous </td><td>mmHg </td><td>N/A                                                                                                                                                                                           </td></tr>\n",
       "\t<tr><td>chol    </td><td>Serum cholesterol                                 </td><td>Continuous </td><td>mg/dl</td><td>N/A                                                                                                                                                                                           </td></tr>\n",
       "\t<tr><td>fbs     </td><td>Presence of high blood sugar                      </td><td>Categorical</td><td>N/A  </td><td>0: False; 1: True                                                                                                                                                                             </td></tr>\n",
       "\t<tr><td>restecg </td><td><span style=white-space:pre-wrap>Resting electrocardiographic results              </span></td><td>Categorical</td><td><span style=white-space:pre-wrap>N/A  </span></td><td>0: Normal; 1: Having ST-T wave abnormality (T wave inversions and/or ST elevation or depression of &gt; 0.05 mV); 2: Showing probable or definite left ventricular hypertrophy by Estes' criteria</td></tr>\n",
       "\t<tr><td>thalach </td><td>Maximum heart rate achieved                       </td><td>Continuous </td><td>BPM  </td><td>N/A                                                                                                                                                                                           </td></tr>\n",
       "\t<tr><td>exang   </td><td>Exercise induced angina                           </td><td>Categorical</td><td>N/A  </td><td>0: No; 1: Yes                                                                                                                                                                                 </td></tr>\n",
       "\t<tr><td>oldpeak </td><td>ST depression induced by exercise relative to rest</td><td>Continuous </td><td>N/A  </td><td>N/A                                                                                                                                                                                           </td></tr>\n",
       "\t<tr><td>slope   </td><td>Slope of the peak exercise ST segment             </td><td>Categorical</td><td>N/A  </td><td>1: Upsloping; 2: Flat; 3: Downsloping                                                                                                                                                         </td></tr>\n",
       "\t<tr><td>ca      </td><td>Number of major vessels coloured by fluoroscopy   </td><td>Continuous </td><td>N/A  </td><td>Range from 1-3                                                                                                                                                                                </td></tr>\n",
       "\t<tr><td>thal    </td><td>Presence of defect                                </td><td>Categorical</td><td>N/A  </td><td>3: Normal; 6: Fixed defect; 7: Reversable defect                                                                                                                                              </td></tr>\n",
       "\t<tr><td><span style=white-space:pre-wrap>num     </span></td><td><span style=white-space:pre-wrap>Diagnosis of heart disease                        </span></td><td>Categorical</td><td><span style=white-space:pre-wrap>N/A  </span></td><td><span style=white-space:pre-wrap>0: &lt; 50% diameter narrowing; 1+: &gt; 50% diameter narrowing                                                                                                                                     </span></td></tr>\n",
       "</tbody>\n",
       "</table>\n"
      ],
      "text/latex": [
       "A data.frame: 14 × 5\n",
       "\\begin{tabular}{lllll}\n",
       " Variable & Definition & Type & Unit & Categories\\\\\n",
       " <chr> & <chr> & <chr> & <chr> & <chr>\\\\\n",
       "\\hline\n",
       "\t age      & Age                                                & Continuous  & Years & N/A                                                                                                                                                                                           \\\\\n",
       "\t sex      & Sex                                                & Categorical & N/A   & 0: Female; 1: Male                                                                                                                                                                            \\\\\n",
       "\t cp       & Chest pain type                                    & Categorical & N/A   & 1: Typical angina; 2: Atypical angina; 3: Non-anginal pain; 4: Asymptomatic                                                                                                                   \\\\\n",
       "\t trestbps & Resting blood pressure on admission to hospital    & Continuous  & mmHg  & N/A                                                                                                                                                                                           \\\\\n",
       "\t chol     & Serum cholesterol                                  & Continuous  & mg/dl & N/A                                                                                                                                                                                           \\\\\n",
       "\t fbs      & Presence of high blood sugar                       & Categorical & N/A   & 0: False; 1: True                                                                                                                                                                             \\\\\n",
       "\t restecg  & Resting electrocardiographic results               & Categorical & N/A   & 0: Normal; 1: Having ST-T wave abnormality (T wave inversions and/or ST elevation or depression of > 0.05 mV); 2: Showing probable or definite left ventricular hypertrophy by Estes' criteria\\\\\n",
       "\t thalach  & Maximum heart rate achieved                        & Continuous  & BPM   & N/A                                                                                                                                                                                           \\\\\n",
       "\t exang    & Exercise induced angina                            & Categorical & N/A   & 0: No; 1: Yes                                                                                                                                                                                 \\\\\n",
       "\t oldpeak  & ST depression induced by exercise relative to rest & Continuous  & N/A   & N/A                                                                                                                                                                                           \\\\\n",
       "\t slope    & Slope of the peak exercise ST segment              & Categorical & N/A   & 1: Upsloping; 2: Flat; 3: Downsloping                                                                                                                                                         \\\\\n",
       "\t ca       & Number of major vessels coloured by fluoroscopy    & Continuous  & N/A   & Range from 1-3                                                                                                                                                                                \\\\\n",
       "\t thal     & Presence of defect                                 & Categorical & N/A   & 3: Normal; 6: Fixed defect; 7: Reversable defect                                                                                                                                              \\\\\n",
       "\t num      & Diagnosis of heart disease                         & Categorical & N/A   & 0: < 50\\% diameter narrowing; 1+: > 50\\% diameter narrowing                                                                                                                                     \\\\\n",
       "\\end{tabular}\n"
      ],
      "text/markdown": [
       "\n",
       "A data.frame: 14 × 5\n",
       "\n",
       "| Variable &lt;chr&gt; | Definition &lt;chr&gt; | Type &lt;chr&gt; | Unit &lt;chr&gt; | Categories &lt;chr&gt; |\n",
       "|---|---|---|---|---|\n",
       "| age      | Age                                                | Continuous  | Years | N/A                                                                                                                                                                                            |\n",
       "| sex      | Sex                                                | Categorical | N/A   | 0: Female; 1: Male                                                                                                                                                                             |\n",
       "| cp       | Chest pain type                                    | Categorical | N/A   | 1: Typical angina; 2: Atypical angina; 3: Non-anginal pain; 4: Asymptomatic                                                                                                                    |\n",
       "| trestbps | Resting blood pressure on admission to hospital    | Continuous  | mmHg  | N/A                                                                                                                                                                                            |\n",
       "| chol     | Serum cholesterol                                  | Continuous  | mg/dl | N/A                                                                                                                                                                                            |\n",
       "| fbs      | Presence of high blood sugar                       | Categorical | N/A   | 0: False; 1: True                                                                                                                                                                              |\n",
       "| restecg  | Resting electrocardiographic results               | Categorical | N/A   | 0: Normal; 1: Having ST-T wave abnormality (T wave inversions and/or ST elevation or depression of &gt; 0.05 mV); 2: Showing probable or definite left ventricular hypertrophy by Estes' criteria |\n",
       "| thalach  | Maximum heart rate achieved                        | Continuous  | BPM   | N/A                                                                                                                                                                                            |\n",
       "| exang    | Exercise induced angina                            | Categorical | N/A   | 0: No; 1: Yes                                                                                                                                                                                  |\n",
       "| oldpeak  | ST depression induced by exercise relative to rest | Continuous  | N/A   | N/A                                                                                                                                                                                            |\n",
       "| slope    | Slope of the peak exercise ST segment              | Categorical | N/A   | 1: Upsloping; 2: Flat; 3: Downsloping                                                                                                                                                          |\n",
       "| ca       | Number of major vessels coloured by fluoroscopy    | Continuous  | N/A   | Range from 1-3                                                                                                                                                                                 |\n",
       "| thal     | Presence of defect                                 | Categorical | N/A   | 3: Normal; 6: Fixed defect; 7: Reversable defect                                                                                                                                               |\n",
       "| num      | Diagnosis of heart disease                         | Categorical | N/A   | 0: &lt; 50% diameter narrowing; 1+: &gt; 50% diameter narrowing                                                                                                                                      |\n",
       "\n"
      ],
      "text/plain": [
       "   Variable Definition                                         Type       \n",
       "1  age      Age                                                Continuous \n",
       "2  sex      Sex                                                Categorical\n",
       "3  cp       Chest pain type                                    Categorical\n",
       "4  trestbps Resting blood pressure on admission to hospital    Continuous \n",
       "5  chol     Serum cholesterol                                  Continuous \n",
       "6  fbs      Presence of high blood sugar                       Categorical\n",
       "7  restecg  Resting electrocardiographic results               Categorical\n",
       "8  thalach  Maximum heart rate achieved                        Continuous \n",
       "9  exang    Exercise induced angina                            Categorical\n",
       "10 oldpeak  ST depression induced by exercise relative to rest Continuous \n",
       "11 slope    Slope of the peak exercise ST segment              Categorical\n",
       "12 ca       Number of major vessels coloured by fluoroscopy    Continuous \n",
       "13 thal     Presence of defect                                 Categorical\n",
       "14 num      Diagnosis of heart disease                         Categorical\n",
       "   Unit \n",
       "1  Years\n",
       "2  N/A  \n",
       "3  N/A  \n",
       "4  mmHg \n",
       "5  mg/dl\n",
       "6  N/A  \n",
       "7  N/A  \n",
       "8  BPM  \n",
       "9  N/A  \n",
       "10 N/A  \n",
       "11 N/A  \n",
       "12 N/A  \n",
       "13 N/A  \n",
       "14 N/A  \n",
       "   Categories                                                                                                                                                                                    \n",
       "1  N/A                                                                                                                                                                                           \n",
       "2  0: Female; 1: Male                                                                                                                                                                            \n",
       "3  1: Typical angina; 2: Atypical angina; 3: Non-anginal pain; 4: Asymptomatic                                                                                                                   \n",
       "4  N/A                                                                                                                                                                                           \n",
       "5  N/A                                                                                                                                                                                           \n",
       "6  0: False; 1: True                                                                                                                                                                             \n",
       "7  0: Normal; 1: Having ST-T wave abnormality (T wave inversions and/or ST elevation or depression of > 0.05 mV); 2: Showing probable or definite left ventricular hypertrophy by Estes' criteria\n",
       "8  N/A                                                                                                                                                                                           \n",
       "9  0: No; 1: Yes                                                                                                                                                                                 \n",
       "10 N/A                                                                                                                                                                                           \n",
       "11 1: Upsloping; 2: Flat; 3: Downsloping                                                                                                                                                         \n",
       "12 Range from 1-3                                                                                                                                                                                \n",
       "13 3: Normal; 6: Fixed defect; 7: Reversable defect                                                                                                                                              \n",
       "14 0: < 50% diameter narrowing; 1+: > 50% diameter narrowing                                                                                                                                     "
      ]
     },
     "metadata": {},
     "output_type": "display_data"
    }
   ],
   "source": [
    "myTable <- data.frame(\n",
    "  Variable = c(\"age\", \"sex\", \"cp\", \"trestbps\", \"chol\", \"fbs\", \"restecg\", \"thalach\", \"exang\", \"oldpeak\", \"slope\", \"ca\", \"thal\", \"num\"),\n",
    "  Definition = c(\"Age\", \"Sex\", \"Chest pain type\", \"Resting blood pressure on admission to hospital\", \"Serum cholesterol\", \"Presence of high blood sugar\", \"Resting electrocardiographic results\", \"Maximum heart rate achieved\", \"Exercise induced angina\", \"ST depression induced by exercise relative to rest\", \"Slope of the peak exercise ST segment\", \"Number of major vessels coloured by fluoroscopy\", \"Presence of defect\", \"Diagnosis of heart disease\"),\n",
    "  Type = c(\"Continuous\", \"Categorical\", \"Categorical\", \"Continuous\", \"Continuous\", \"Categorical\", \"Categorical\", \"Continuous\", \"Categorical\", \"Continuous\", \"Categorical\", \"Continuous\", \"Categorical\", \"Categorical\"),\n",
    "  Unit = c(\"Years\", \"N/A\", \"N/A\", \"mmHg\", \"mg/dl\", \"N/A\", \"N/A\", \"BPM\", \"N/A\", \"N/A\", \"N/A\", \"N/A\", \"N/A\", \"N/A\"),\n",
    "  Categories = c(\"N/A\", \"0: Female; 1: Male\", \"1: Typical angina; 2: Atypical angina; 3: Non-anginal pain; 4: Asymptomatic\", \"N/A\", \"N/A\", \"0: False; 1: True\", \"0: Normal; 1: Having ST-T wave abnormality (T wave inversions and/or ST elevation or depression of > 0.05 mV); 2: Showing probable or definite left ventricular hypertrophy by Estes' criteria\", \"N/A\", \"0: No; 1: Yes\", \"N/A\", \"1: Upsloping; 2: Flat; 3: Downsloping\", \"Range from 1-3\", \"3: Normal; 6: Fixed defect; 7: Reversable defect\", \"0: < 50% diameter narrowing; 1+: > 50% diameter narrowing\")\n",
    ")\n",
    "myTable"
   ]
  },
  {
   "cell_type": "code",
   "execution_count": null,
   "id": "57a299e6-3411-44cc-9dc8-7bb0bb7b0128",
   "metadata": {},
   "outputs": [],
   "source": []
  }
 ],
 "metadata": {
  "kernelspec": {
   "display_name": "R",
   "language": "R",
   "name": "ir"
  },
  "language_info": {
   "codemirror_mode": "r",
   "file_extension": ".r",
   "mimetype": "text/x-r-source",
   "name": "R",
   "pygments_lexer": "r",
   "version": "4.2.3"
  }
 },
 "nbformat": 4,
 "nbformat_minor": 5
}
